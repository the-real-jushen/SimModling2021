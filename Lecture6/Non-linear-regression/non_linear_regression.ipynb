{
 "cells": [
  {
   "cell_type": "markdown",
   "metadata": {},
   "source": [
    "# 非线性回归\n",
    "\n",
    "\n",
    "\n",
    "#  数据科学介绍1.x：非线性回归\n",
    "\n",
    "这里我们课上不讲，大家感兴趣自己回去看，可简单了\n",
    "\n",
    "之前讲了线性回归，再讲一下非线性回归。当你建立的模型有一个根据规则建立的公式的时候，如果这个公式不满足线性回归的时候就需要使用非线性回归了。\n",
    "\n",
    "如下面这个例子：\n",
    "\n",
    ">exp 5在化学动力学反应过程中，建立了一个反应速度和反应物含量的数学模型，形式为：\n",
    "\n",
    "$$\n",
    "y=\\frac{\\beta_4x_2-\\cfrac{x_3}{\\beta_5}}{1+\\beta_1x_1+\\beta_2x_2+\\beta_3x_3}\n",
    "$$\n",
    "\n",
    "现在测到一组参考数据，求模型参数 $\\beta_1..\\beta_5$\n",
    "\n",
    "| x1 氢 | x2 戊烷 | x3 异构戊烷 | y 反应速率    |\n",
    "|-----|-----|-----|-------|\n",
    "| 470 | 300 | 10  | 8.55  |\n",
    "| 285 | 80  | 10  | 3.79  |\n",
    "| 470 | 300 | 120 | 4.82  |\n",
    "| 470 | 80  | 120 | 0.02  |\n",
    "| 470 | 80  | 10  | 2.75  |\n",
    "| 100 | 190 | 10  | 14.39 |\n",
    "| 100 | 80  | 65  | 2.54  |\n",
    "| 470 | 190 | 65  | 4.35  |\n",
    "| 100 | 300 | 54  | 13    |\n",
    "| 100 | 300 | 120 | 8.5   |\n",
    "| 100 | 80  | 120 | 0.05  |\n",
    "| 285 | 300 | 10  | 11.32 |\n",
    "| 285 | 190 | 120 | 3.13  |\n",
    "\n",
    "我们需要用一个函数和前面的很象，叫 `fitnlm` fit non-linear-model。\n",
    "代码如下：\n",
    "\n",
    "```matlab\n",
    "%%define your model equation using a anonymous function\n",
    "f=@(B,X) (B(4)*X(:,2)-X(:,3)/B(5))./(1+B(1)*X(:,1)+B(2)*X(:,2)+B(3)*X(:,3))\n",
    "\n",
    "%% feed the data and the function to the fit\n",
    "%this is the initial value\n",
    "B0=[0.1 0.1 0.1 0.1 0.1]\n",
    "model=fitnlm(exp5,f,B0)\n",
    "\n",
    "%% make prediction\n",
    "y=model.predict([470 300 10])\n",
    "```\n",
    "\n",
    "可以看到我们用了 `@(B,X) ...` 这个匿名函数的语法定义我们的一个模型公式，B时参数，X时independent variable，都是向量。这里要注意的时，后面fit的时候是吧整个样板矩阵全部送进去的，这里这里要去对应的一列，比如X(:,2)就是把X矩阵的第二列所有行取出来，这个函数的返回值就是我们样本的所有的y，就是数据表里面Y那一列。\n",
    "\n",
    "然后fit的时候需要给一个参数的初值。因为非线性回归不想线性回归一样有现成公式可以借，线性回归的损失函数是一个凸函数可以直接算，这个非线性回归的损失函数不知道是个啥，只能通过如梯度下降之类的优化算法，所以需要一个迭代的初值，这个就不多讲了。\n",
    "\n",
    "这个fit方法输入的数据是一个table，我们导入的数据，它自动把最后一列作为dependent variable了，我们对于赢得处理数据就行。当让你可以用矩阵的语法把这个传进去 `fitnlm(X,Y,f,B0)` 这种。\n",
    "\n",
    "当你得到模型以后可以看到输出是：\n"
   ]
  },
  {
   "cell_type": "code",
   "execution_count": 1,
   "metadata": {},
   "outputs": [
    {
     "name": "stderr",
     "output_type": "stream",
     "text": [
      "c:\\Users\\zheng\\anaconda3\\envs\\experiment\\lib\\site-packages\\numpy\\_distributor_init.py:30: UserWarning: loaded more than 1 DLL from .libs:\n",
      "c:\\Users\\zheng\\anaconda3\\envs\\experiment\\lib\\site-packages\\numpy\\.libs\\libopenblas.EL2C6PLE4ZYW3ECEVIV3OXXGRN2NRFM2.gfortran-win_amd64.dll\n",
      "c:\\Users\\zheng\\anaconda3\\envs\\experiment\\lib\\site-packages\\numpy\\.libs\\libopenblas.WCDJNK7YVMPZQ2ME2ZZHJJRJ3JIKNDB7.gfortran-win_amd64.dll\n",
      "  warnings.warn(\"loaded more than 1 DLL from .libs:\"\n"
     ]
    },
    {
     "data": {
      "text/html": [
       "<div>\n",
       "<style scoped>\n",
       "    .dataframe tbody tr th:only-of-type {\n",
       "        vertical-align: middle;\n",
       "    }\n",
       "\n",
       "    .dataframe tbody tr th {\n",
       "        vertical-align: top;\n",
       "    }\n",
       "\n",
       "    .dataframe thead th {\n",
       "        text-align: right;\n",
       "    }\n",
       "</style>\n",
       "<table border=\"1\" class=\"dataframe\">\n",
       "  <thead>\n",
       "    <tr style=\"text-align: right;\">\n",
       "      <th></th>\n",
       "      <th>x1</th>\n",
       "      <th>x2</th>\n",
       "      <th>x3</th>\n",
       "      <th>y</th>\n",
       "    </tr>\n",
       "  </thead>\n",
       "  <tbody>\n",
       "    <tr>\n",
       "      <th>0</th>\n",
       "      <td>470</td>\n",
       "      <td>300</td>\n",
       "      <td>10</td>\n",
       "      <td>8.55</td>\n",
       "    </tr>\n",
       "    <tr>\n",
       "      <th>1</th>\n",
       "      <td>285</td>\n",
       "      <td>80</td>\n",
       "      <td>10</td>\n",
       "      <td>3.79</td>\n",
       "    </tr>\n",
       "    <tr>\n",
       "      <th>2</th>\n",
       "      <td>470</td>\n",
       "      <td>300</td>\n",
       "      <td>120</td>\n",
       "      <td>4.82</td>\n",
       "    </tr>\n",
       "    <tr>\n",
       "      <th>3</th>\n",
       "      <td>470</td>\n",
       "      <td>80</td>\n",
       "      <td>120</td>\n",
       "      <td>0.02</td>\n",
       "    </tr>\n",
       "    <tr>\n",
       "      <th>4</th>\n",
       "      <td>470</td>\n",
       "      <td>80</td>\n",
       "      <td>10</td>\n",
       "      <td>2.75</td>\n",
       "    </tr>\n",
       "  </tbody>\n",
       "</table>\n",
       "</div>"
      ],
      "text/plain": [
       "    x1   x2   x3     y\n",
       "0  470  300   10  8.55\n",
       "1  285   80   10  3.79\n",
       "2  470  300  120  4.82\n",
       "3  470   80  120  0.02\n",
       "4  470   80   10  2.75"
      ]
     },
     "execution_count": 1,
     "metadata": {},
     "output_type": "execute_result"
    }
   ],
   "source": [
    "import pandas as pd\n",
    "from scipy.optimize import curve_fit\n",
    "\n",
    "df = pd.read_excel('exp5.xlsx')\n",
    "df.head()\n",
    "\n"
   ]
  },
  {
   "cell_type": "code",
   "execution_count": 2,
   "metadata": {},
   "outputs": [
    {
     "data": {
      "text/plain": [
       "array([0.06277578, 0.04004773, 0.11241474, 1.25258524, 1.19137799])"
      ]
     },
     "execution_count": 2,
     "metadata": {},
     "output_type": "execute_result"
    }
   ],
   "source": [
    "def objective(X, a, b, c, d, e):\n",
    "    return (d * X[1] - X[2] / e) /  (1 + a * X[0] + b * X[1] + c * X[2])\n",
    "\"\"\"\n",
    "这里我测过，objective的参数矩阵不能封装成列表；传进curve_fit()的xdata和ydata不能写成X和y然后放进去(X和y如下面定义)\n",
    "后者可以参考 https://stackoverflow.com/questions/20769340/fitting-multivariate-curve-fit-in-python\n",
    "\"\"\"\n",
    "# X = df.iloc[:, :-1].values.reshape(3, -1)\n",
    "# y = df.iloc[:, -1].values.reshape(1, -1)\n",
    "data = df.values.transpose()\n",
    "popt, _ = curve_fit(objective, data, data[-1, :])\n",
    "popt\n"
   ]
  },
  {
   "cell_type": "code",
   "execution_count": 3,
   "metadata": {},
   "outputs": [
    {
     "name": "stdout",
     "output_type": "stream",
     "text": [
      "0.9988983934833046\n",
      "0.9985311913110727\n"
     ]
    }
   ],
   "source": [
    "from sklearn.metrics import r2_score\n",
    "X = data[:-1]\n",
    "y = data[-1]\n",
    "a, b, c, d, e = popt\n",
    "pred_y = (d * X[1] - X[2] / e) /  (1 + a * X[0] + b * X[1] + c * X[2])\n",
    "\n",
    "r2 = r2_score(y, pred_y)\n",
    "\n",
    "adj_r2 = 1 - (1 - r2) * (len(y) - 1) / (len(y) - X.shape[0] - 1)\n",
    "\n",
    "print(r2)\n",
    "\n",
    "print(adj_r2)"
   ]
  },
  {
   "cell_type": "markdown",
   "metadata": {},
   "source": [
    "可以看到这个模型的rsquare非常接近于1。\n",
    "为什么呢？（虽然有可能这个题的数据是来根据模型生成的）\n",
    "在有些情况下，你可以通过某些物理和化学规律建立一个模型的公式，\n",
    "这个时候通过数据找到一组符合这个规律和实验数据的模型肯定是最准的。\n",
    "所以等你建立模型的时候，可以根据已知的规律建立模型公式的话，\n",
    "一定比用一个多项式这种通用的模型效果好。但是这种情况非常少。"
   ]
  }
 ],
 "metadata": {
  "kernelspec": {
   "display_name": "experiment",
   "language": "python",
   "name": "python3"
  },
  "language_info": {
   "codemirror_mode": {
    "name": "ipython",
    "version": 3
   },
   "file_extension": ".py",
   "mimetype": "text/x-python",
   "name": "python",
   "nbconvert_exporter": "python",
   "pygments_lexer": "ipython3",
   "version": "3.8.8"
  }
 },
 "nbformat": 4,
 "nbformat_minor": 2
}
