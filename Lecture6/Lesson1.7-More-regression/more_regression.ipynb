{
 "cells": [
  {
   "cell_type": "markdown",
   "metadata": {},
   "source": [
    "好这里我们给大家介绍一些额外的回归方法，主要用到sklearn。\n",
    "\n",
    "\n",
    "\n",
    "这里给大家看一个预测房价的例子，就不画图了，主要通过rsquared来看性能\n",
    "\n",
    "\n",
    "\n",
    "我们把线性模型作为baseline，然后我们来看SVM，KNeighbors和RandomForest\n",
    "\n",
    "\n",
    "\n",
    "导入数据："
   ]
  },
  {
   "cell_type": "code",
   "execution_count": null,
   "metadata": {},
   "outputs": [],
   "source": [
    "import pandas as pd\n",
    "\n",
    "data = pd.read_csv('kc_house_data.csv').iloc[:, 2:]\n",
    "data.dropna(inplace=True)\n",
    "data.head()"
   ]
  },
  {
   "cell_type": "code",
   "execution_count": null,
   "metadata": {},
   "outputs": [],
   "source": [
    "from sklearn.linear_model import LinearRegression\n",
    "from sklearn.svm import SVR\n",
    "from sklearn.neighbors import KNeighborsRegressor\n",
    "from sklearn.ensemble import RandomForestRegressor\n",
    "from sklearn.model_selection import train_test_split\n",
    "y = data['price'].values\n",
    "X = data.iloc[:, 1:].values\n",
    "\n",
    "models = dict()\n",
    "models['Linear'] = LinearRegression()\n",
    "models['SVR'] = SVR()\n",
    "models['KNR'] = KNeighborsRegressor()\n",
    "models['RFR'] = RandomForestRegressor()\n",
    "X_train, X_test, y_train, y_test = train_test_split(X, y)\n",
    "print(len(y))\n",
    "print(len(y_train))\n",
    "print(len(y_test))"
   ]
  },
  {
   "cell_type": "markdown",
   "metadata": {},
   "source": [
    "上面的train_test_split是用来分训练集和测试集的，\n",
    "\n",
    "因为不涉及模型参数的迭代所以没有验证集。"
   ]
  },
  {
   "cell_type": "code",
   "execution_count": null,
   "metadata": {},
   "outputs": [],
   "source": [
    "\n",
    "predictions = dict()\n",
    "scores = dict()\n",
    "for name, model in models.items():\n",
    "    model.fit(X_train, y_train)\n",
    "    predictions[name] = model.predict(X_test)\n",
    "    scores[name] = model.score(X_test, y_test)\n",
    "    print('The R-squared of model {} is: {}'.format(name, scores[name]))\n"
   ]
  },
  {
   "cell_type": "markdown",
   "metadata": {},
   "source": [
    "可以看到除了RandomForest之外其他的模型SVM和KNeighbors都表现得稀烂，\n",
    "\n",
    "尤其是SVM，Rsquared竟然是负的。\n",
    "\n",
    "可能是因为没有归一化，\n",
    "\n",
    "归一化就是把你的数据映射到某一个范围内，一般是(0, 1)或者(-1, 1)，\n",
    "\n",
    "我们下面要用的StandardScaler就是一种归一化方法，他是把数据缩放到均值为0，方差为1，\n",
    "\n",
    "这样缩放的好处是他不改变原有的数据分布"
   ]
  },
  {
   "cell_type": "code",
   "execution_count": null,
   "metadata": {},
   "outputs": [],
   "source": [
    "from sklearn.preprocessing import StandardScaler\n",
    "scaler = StandardScaler()\n",
    "scaler.fit(X_train)\n",
    "X_train_scale, X_test_scale = scaler.transform(X_train), scaler.transform(X_test)\n",
    "for name, model in models.items():\n",
    "    model.fit(X_train_scale, y_train)\n",
    "    predictions['scaled_X{}'.format(name)] = model.predict(X_test_scale)\n",
    "    scores['scaled_X{}'.format(name)] = model.score(X_test_scale, y_test)\n",
    "    print('The R-squared of model scaled X {} is: {}'.format(name, scores['scaled_X{}'.format(name)]))"
   ]
  },
  {
   "cell_type": "markdown",
   "metadata": {},
   "source": [
    "可以看到KNeighbors已经上来了，但SVM还是不行。\n",
    "\n",
    "我们再归一化一下y："
   ]
  },
  {
   "cell_type": "code",
   "execution_count": null,
   "metadata": {},
   "outputs": [],
   "source": [
    "y_scaler = StandardScaler()\n",
    "y_scaler.fit(y_train.reshape(-1, 1))\n",
    "y_train_scale, y_test_scale = y_scaler.transform(y_train.reshape(-1, 1)).ravel(), y_scaler.transform(y_test.reshape(-1, 1)).ravel()\n",
    "for name, model in models.items():\n",
    "    model.fit(X_train_scale, y_train_scale)\n",
    "    predictions['scaled_y{}'.format(name)] = model.predict(X_test_scale)\n",
    "    scores['scaled_y{}'.format(name)] = model.score(X_test_scale, y_test_scale)\n",
    "    print('The R-squared of model scaled y {} is: {}'.format(name, scores['scaled_y{}'.format(name)]))\n"
   ]
  },
  {
   "cell_type": "markdown",
   "metadata": {},
   "source": [
    "## 作业1\n",
    "\n",
    "\n",
    "\n",
    "用我们讲的房价的数据，到sklearn上找若干我们没讲过\n",
    "\n",
    "的回归模型，自己玩一下，用train test split分割训练集\n",
    "\n",
    "和验证集，给出完整的拟合、预测代码，并给出在验证集上的\n",
    "\n",
    "r-squared.\n",
    "\n",
    "\n",
    "\n",
    "可以参见 https://scikit-learn.org/stable/supervised_learning.html"
   ]
  },
  {
   "cell_type": "code",
   "execution_count": null,
   "metadata": {},
   "outputs": [],
   "source": []
  }
 ],
 "metadata": {
  "language_info": {
   "codemirror_mode": {
    "name": "ipython",
    "version": 3
   },
   "file_extension": ".py",
   "mimetype": "text/x-python",
   "name": "python",
   "nbconvert_exporter": "python",
   "pygments_lexer": "ipython3",
   "version": 3
  }
 },
 "nbformat": 4,
 "nbformat_minor": 2
}
