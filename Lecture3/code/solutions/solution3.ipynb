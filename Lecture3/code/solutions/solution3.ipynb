{
 "cells": [
  {
   "cell_type": "markdown",
   "metadata": {},
   "source": [
    "## 练习3\n",
    "下面我们做个联系，假设小明每天早上去上班要做公交车，她早上出门有70%概率坐A路，30%概率坐B路，\n",
    "A到公司有6站路，每站之间运行2或着3分钟，50%概率随机，然后每站停车0.5或着1分钟，50%概率随机。\n",
    "B到公司有8站路，每站之间运行1或着2分钟，50%概率随机，然后每站停车0.5或着1分钟，50%概率随机，\n",
    "B车如果连续两站停留1分钟，下一段路一定是0.5分钟路程。\n",
    "求小平均多长时间到公司，如果小明8点上班，那么他每天几点出门坐车，才能保证90%都不迟到？"
   ]
  },
  {
   "cell_type": "code",
   "execution_count": 4,
   "metadata": {},
   "outputs": [
    {
     "name": "stdout",
     "output_type": "stream",
     "text": [
      "21\n",
      "20\n",
      "20\n",
      "19\n",
      "19\n"
     ]
    }
   ],
   "source": [
    "import matplotlib.pyplot as plt\n",
    "import random as random\n",
    "import numpy as np\n",
    "\n",
    "\n",
    "def ATime():\n",
    "    # trip\n",
    "    a = np.arange(6)\n",
    "    # stop\n",
    "    b = np.arange(6)\n",
    "    for i in range(6):\n",
    "        if random.random() <= 0.5:\n",
    "            a[i] = 2\n",
    "        else:\n",
    "            a[i] = 3\n",
    "    for i in range(6):\n",
    "        if random.random() <= 0.5:\n",
    "            b[i] = 0.5\n",
    "        else:\n",
    "            b[i] = 1\n",
    "    return np.sum(a)+np.sum(b)\n",
    "    AT = 0\n",
    "    for i in range(6):\n",
    "        AT = AT+a[i]+b[i]\n",
    "    return AT\n",
    "\n",
    "for i in range(5):\n",
    "    print(ATime())\n",
    "\n",
    "\n"
   ]
  },
  {
   "cell_type": "code",
   "execution_count": 5,
   "metadata": {},
   "outputs": [
    {
     "name": "stdout",
     "output_type": "stream",
     "text": [
      "16\n",
      "16\n",
      "16\n"
     ]
    }
   ],
   "source": [
    "def BTime():\n",
    "    a = np.arange(8)\n",
    "    b = np.arange(8)\n",
    "    for i in range(8):\n",
    "        if random.random() <= 0.5:\n",
    "            a[i] = 1\n",
    "        else:\n",
    "            a[i] = 2\n",
    "    for i in range(8):\n",
    "        for i in range(2):\n",
    "            if random.random() <= 0.5:\n",
    "                b[i] = 1\n",
    "            else:\n",
    "                b[i] = 0.5\n",
    "        for i in range(3, 8):\n",
    "            if b[i-2] == b[i-1] == 1:\n",
    "                b[i] = 0.5\n",
    "            elif random.random() <= 0.5:\n",
    "                b[i] = 1\n",
    "            else:\n",
    "                b[i] = 0.5\n",
    "    return np.sum(a)+np.sum(b)\n",
    "    BT = 0\n",
    "    for i in range(8):\n",
    "        BT = BT+a[i]+b[i]\n",
    "    return BT\n",
    "\n",
    "\n",
    "for i in range(3):\n",
    "    print(ATime())"
   ]
  },
  {
   "cell_type": "code",
   "execution_count": 6,
   "metadata": {},
   "outputs": [],
   "source": [
    "\n",
    "\n",
    "def ActualTime():\n",
    "    ActualTime = 0\n",
    "    if random.random() <= 0.7:\n",
    "        ActualTime = ATime()\n",
    "    else:\n",
    "        ActualTime = BTime()\n",
    "    return ActualTime\n",
    "\n"
   ]
  },
  {
   "cell_type": "code",
   "execution_count": 7,
   "metadata": {},
   "outputs": [
    {
     "data": {
      "image/png": "[encoded data removed]",
      "text/plain": [
       "<Figure size 432x288 with 1 Axes>"
      ]
     },
     "metadata": {
      "needs_background": "light"
     },
     "output_type": "display_data"
    },
    {
     "name": "stdout",
     "output_type": "stream",
     "text": [
      "90% no late: 20\n",
      "average: 17.7596\n"
     ]
    }
   ],
   "source": [
    "iteration = 5000\n",
    "results = []\n",
    "for i in range(iteration):\n",
    "    results.append(ActualTime())\n",
    "results.sort()\n",
    "plt.hist(results)\n",
    "plt.show()\n",
    "print(\"90% no late: \" + str(results[int(iteration*0.9)]))\n",
    "print(\"average: \"+str(np.array(results).mean()))\n",
    "\n"
   ]
  },
  {
   "cell_type": "code",
   "execution_count": null,
   "metadata": {},
   "outputs": [],
   "source": []
  }
 ],
 "metadata": {
  "kernelspec": {
   "display_name": "experiment",
   "language": "python",
   "name": "python3"
  },
  "language_info": {
   "codemirror_mode": {
    "name": "ipython",
    "version": 3
   },
   "file_extension": ".py",
   "mimetype": "text/x-python",
   "name": "python",
   "nbconvert_exporter": "python",
   "pygments_lexer": "ipython3",
   "version": "3.8.8"
  }
 },
 "nbformat": 4,
 "nbformat_minor": 2
}
