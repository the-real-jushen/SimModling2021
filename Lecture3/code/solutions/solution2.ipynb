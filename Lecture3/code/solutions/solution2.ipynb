{
 "cells": [
  {
   "cell_type": "markdown",
   "metadata": {},
   "source": [
    "## 练习 2\n",
    "\n",
    "一个小球被一个长度位 L 的绳子吊着，再小球自然悬挂静止时，给他水平 x 正方向初速度 v，小球运动会受到空气的阻力，\n",
    "和速度成正比，C，求他的轨迹，注意绳子是软的，\n",
    "计算到球到左边最高点时停下，或者绳子不在拉直，小球下落到绳子再次拉直为止。\n",
    "\n",
    "## 解\n",
    "\n",
    "因为有二阶导数，所以y和y'都是需要求解的对象,y''就比较麻烦了，\n",
    "加速度是由空气阻力，重力同时提供的。\n",
    "\n",
    "我们这里为了简单，我门吧求走过的弧长作为要求的函数Ds,顺时针为正方向，那么加速度可以写作：\n",
    "dVdt = -np.sin(Ds[0] / r) * g - Ds[1] * dragCoef\n",
    "第一项位重力提供的，绳子方向上，垂直速度分量没有效果，只有平行分量有，第二项位空气阻力  \n",
    "\n",
    "当绳子承受的力<0的时候球进入自由落体运动。这个运动写个新的ODE：`fall(t,Y)`，\n",
    "不再用Ds弧度作为求解对象，而是使用x，y笛卡尔坐标系。\n",
    "\n",
    "$$\n",
    "\\begin{cases}\n",
    "y'=y'\\\\\n",
    "y''=-np.sin(Ds[0] / r) * g - Ds[1] * dragCoef\\\\\n",
    "\\end{cases}\n",
    "$$"
   ]
  },
  {
   "cell_type": "code",
   "execution_count": 1,
   "metadata": {},
   "outputs": [
    {
     "name": "stderr",
     "output_type": "stream",
     "text": [
      "c:\\Users\\zheng\\anaconda3\\envs\\experiment\\lib\\site-packages\\numpy\\_distributor_init.py:30: UserWarning: loaded more than 1 DLL from .libs:\n",
      "c:\\Users\\zheng\\anaconda3\\envs\\experiment\\lib\\site-packages\\numpy\\.libs\\libopenblas.EL2C6PLE4ZYW3ECEVIV3OXXGRN2NRFM2.gfortran-win_amd64.dll\n",
      "c:\\Users\\zheng\\anaconda3\\envs\\experiment\\lib\\site-packages\\numpy\\.libs\\libopenblas.WCDJNK7YVMPZQ2ME2ZZHJJRJ3JIKNDB7.gfortran-win_amd64.dll\n",
      "  warnings.warn(\"loaded more than 1 DLL from .libs:\"\n"
     ]
    }
   ],
   "source": [
    "from scipy.integrate import solve_ivp\n",
    "import numpy as np\n",
    "import matplotlib.pyplot as plt\n"
   ]
  },
  {
   "cell_type": "code",
   "execution_count": 2,
   "metadata": {},
   "outputs": [],
   "source": [
    "# the swing process\n",
    "\n",
    "\n",
    "def swing(t, Ds):\n",
    "    dDdt = Ds[1]\n",
    "    dVdt = -np.sin(Ds[0] / r) * g - Ds[1] * dragCoef\n",
    "    return np.array([dDdt, dVdt])\n",
    "\n",
    "# the fall process\n",
    "\n",
    "\n",
    "def fall(t, Y):\n",
    "    # there are 4 unknowns x,y and x', y'\n",
    "    # return y', y'',x',x''\n",
    "    return np.array([Y[1], -g - Y[1] * dragCoef, Y[3], -Y[3] * dragCoef])\n",
    "\n",
    "# when the rope does not pull, stop swinging and start falling\n",
    "\n",
    "\n",
    "def fallEvent(t, Ds):\n",
    "    fall = 1\n",
    "    D = Ds[0]\n",
    "    V = Ds[1]\n",
    "    # the rope has 0 force then fall\n",
    "    return V**2 / r + np.cos(D / r) * g\n",
    "    #if V**2 / r + np.cos(D / r) * g <= 0:\n",
    "    #    fall = 0\n",
    "    #return fall\n",
    "\n",
    "\n",
    "fallEvent.terminal = True\n",
    "fallEvent.direction = -1\n",
    "\n",
    "# when the ball stopped at the left top position, stop the swing process\n",
    "def topEvent(t, Ds):\n",
    "    return Ds[1]\n",
    "\n",
    "\n",
    "topEvent.terminal = True\n",
    "topEvent.direction = 1\n",
    "\n",
    "#  when the ball is out of the circular path, limitied by the rope length,\n",
    "# stop the free process\n",
    "\n",
    "\n",
    "def outEvent(t, Ys):\n",
    "    y = Ys[0]\n",
    "    x = Ys[2]\n",
    "    value = 1\n",
    "    #  when the ball is out of the circular path, limitied by the rope length, give it a margin\n",
    "    return r - (x ** 2 + y ** 2)\n",
    "    if x ** 2 + y ** 2 > r+0.01:\n",
    "        value = 0\n",
    "    return value\n",
    "\n",
    "\n",
    "outEvent.terminal = True\n",
    "outEvent.direction = -1\n"
   ]
  },
  {
   "cell_type": "code",
   "execution_count": 3,
   "metadata": {},
   "outputs": [
    {
     "data": {
      "image/png": "[encoded data removed]",
      "text/plain": [
       "<Figure size 432x288 with 1 Axes>"
      ]
     },
     "metadata": {
      "needs_background": "light"
     },
     "output_type": "display_data"
    }
   ],
   "source": [
    "r = 1  # radius of swing, rope length\n",
    "g = 9.8\n",
    "dragCoef = 1  # drag coeffient / speed\n",
    "\n",
    "t0 = 0\n",
    "tf = 30\n",
    "# initial speed when the ball is at the bottom, clockwise is positive\n",
    "speed0 = 8\n",
    "\n",
    "# start at the bottom with speed0\n",
    "D0 = [0, speed0]\n",
    "\n",
    "# solve the swing process\n",
    "sol0 = solve_ivp(swing, [t0, tf], D0, events=[\n",
    "                 fallEvent, topEvent], max_step=0.02)\n",
    "solSwing = sol0.y[0]\n",
    "\n",
    "solFall = []\n",
    "# if event 0 (fallEvent) stopped the solution process, then it starts to fall\n",
    "if sol0.t_events[0].any():\n",
    "    # the postion and speed when the event happend\n",
    "    De = sol0.y_events[0][0]\n",
    "    V = De[1]  # the speed tangential to the circular trajectory\n",
    "    D = De[0]  # the position of the ball at the circular trajectory\n",
    "    # calculate the x, y speed of ball\n",
    "    speedx = np.cos(D / r) * V\n",
    "    speedy = np.sin(D / r)*V\n",
    "    # calculate the x, y position of ball\n",
    "    y0 = -np.cos(D / r)\n",
    "    x0 = np.sin(D / r)\n",
    "    # solve the fall process\n",
    "    fall0 = [y0, speedy, x0, speedx]  # initial condition of free fall\n",
    "    sol1 = solve_ivp(fall, [t0, tf], fall0, events=outEvent, max_step=0.02)\n",
    "    solFall = sol1.y\n",
    "\n",
    "# draw\n",
    "plt.xlim((-1.1 * r, 1.1 * r))\n",
    "plt.ylim((-1.1 * r, 1.1 * r))\n",
    "plt.axis('equal')\n",
    "\n",
    "for D in solSwing:\n",
    "    y = -np.cos(D / r)\n",
    "    x = np.sin(D / r)\n",
    "    plt.scatter(x, y, c='w', edgecolors='b', marker='o')\n",
    "\n",
    "if len(solFall) != 0:\n",
    "    for i in range(solFall.shape[1]):\n",
    "        y = solFall[0][i]\n",
    "        x = solFall[2][i]\n",
    "        plt.scatter(x, y, c='b', marker='x')\n",
    "\n",
    "plt.show()\n"
   ]
  },
  {
   "cell_type": "code",
   "execution_count": null,
   "metadata": {},
   "outputs": [],
   "source": []
  }
 ],
 "metadata": {
  "kernelspec": {
   "display_name": "experiment",
   "language": "python",
   "name": "python3"
  },
  "language_info": {
   "codemirror_mode": {
    "name": "ipython",
    "version": 3
   },
   "file_extension": ".py",
   "mimetype": "text/x-python",
   "name": "python",
   "nbconvert_exporter": "python",
   "pygments_lexer": "ipython3",
   "version": "3.8.8"
  }
 },
 "nbformat": 4,
 "nbformat_minor": 2
}
