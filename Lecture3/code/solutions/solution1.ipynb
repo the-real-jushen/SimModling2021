{
 "cells": [
  {
   "cell_type": "markdown",
   "metadata": {},
   "source": [
    "## 练习1\n",
    "\n",
    "尝试做这么一个模型，一个小球，在地面以速度v向上抛，每次落到地面回会弹起，速度变为原来的0.9，\n",
    "请画出他弹跳10次的图像，横轴为时间，纵轴为y位移。\n",
    "\n",
    "提示：需要求2阶导数，知道怎么搞吧，每次落地就停止计算，然后重新计算初值，然后重新开始，\n",
    "是一个新的处置问题，不是一个方正就能算完的，用循环算10次。，同时记录每次弹起最高点的位置。\n",
    "\n",
    "因为有二阶导数，所以y和y'都是需要求解的对象：\n",
    "$$\n",
    "\\begin{cases}\n",
    "y'=y'\\\\\n",
    "y''=-9.8\\\\\n",
    "\\end{cases}\n",
    "$$"
   ]
  },
  {
   "cell_type": "code",
   "execution_count": 1,
   "metadata": {},
   "outputs": [
    {
     "name": "stderr",
     "output_type": "stream",
     "text": [
      "c:\\Users\\zheng\\anaconda3\\envs\\experiment\\lib\\site-packages\\numpy\\_distributor_init.py:30: UserWarning: loaded more than 1 DLL from .libs:\n",
      "c:\\Users\\zheng\\anaconda3\\envs\\experiment\\lib\\site-packages\\numpy\\.libs\\libopenblas.EL2C6PLE4ZYW3ECEVIV3OXXGRN2NRFM2.gfortran-win_amd64.dll\n",
      "c:\\Users\\zheng\\anaconda3\\envs\\experiment\\lib\\site-packages\\numpy\\.libs\\libopenblas.WCDJNK7YVMPZQ2ME2ZZHJJRJ3JIKNDB7.gfortran-win_amd64.dll\n",
      "  warnings.warn(\"loaded more than 1 DLL from .libs:\"\n"
     ]
    }
   ],
   "source": [
    "\n",
    "from scipy.integrate import solve_ivp\n",
    "import numpy as np\n",
    "import matplotlib.pyplot as plt\n",
    "\n",
    "# the ode\n",
    "\n",
    "\n",
    "def dydt(t, y):\n",
    "    return np.array([y[1], -9.8])\n",
    "\n",
    "# hit the ground\n",
    "def hitEvent(t, y):\n",
    "    return y[0]\n",
    "hitEvent.terminal = True\n",
    "hitEvent.direction = -1\n",
    "\n",
    "# hit the top\n",
    "def topEvent(t, y):\n",
    "    return y[1]\n",
    "\n",
    "topEvent.direction = -1\n",
    "\n"
   ]
  },
  {
   "cell_type": "code",
   "execution_count": 2,
   "metadata": {},
   "outputs": [],
   "source": [
    "\n",
    "t0 = 0\n",
    "tf = 30\n",
    "v0 = 20\n",
    "# init position and speed\n",
    "y0 = np.array([0, v0])\n",
    "# this will receive the outpot\n",
    "tOut = np.array([t0])\n",
    "yOut = y0.reshape(2, 1)\n",
    "# this receives y top and time\n",
    "yTop = np.zeros([10, 2])\n",
    "\n",
    "# bounce 10 times\n",
    "for i in range(10):\n",
    "    sol = solve_ivp(dydt, [t0, tf], y0, events=[\n",
    "                    hitEvent, topEvent], max_step=0.2)\n",
    "    # the time should be starting from the end of last round\n",
    "    lastEndTime = tOut[-1]\n",
    "    # concatenate the result to the previous results\n",
    "    tOut = np.hstack((tOut, sol.t+lastEndTime))\n",
    "    yOut = np.hstack((yOut, sol.y))\n",
    "    # mark the top y, note the y is (y,y'), so take only the first\n",
    "    # and the event only happend once, it is the second event in events as hitEvent is the first one\n",
    "    yTop[i, 0] = sol.y_events[1][0, 0]\n",
    "    # mark the time it reached top y\n",
    "    yTop[i, 1] = sol.t_events[1][0]+lastEndTime\n",
    "\n",
    "    # start all over with speed reduced\n",
    "    y0[0] = 0\n",
    "    y0[1] = -0.9 * sol.y[1][-1]\n"
   ]
  },
  {
   "cell_type": "code",
   "execution_count": 3,
   "metadata": {},
   "outputs": [
    {
     "data": {
      "text/plain": [
       "[<matplotlib.lines.Line2D at 0x1eaaf2b9940>]"
      ]
     },
     "execution_count": 3,
     "metadata": {},
     "output_type": "execute_result"
    },
    {
     "data": {
      "image/png": "[encoded data removed]",
      "text/plain": [
       "<Figure size 432x288 with 1 Axes>"
      ]
     },
     "metadata": {
      "needs_background": "light"
     },
     "output_type": "display_data"
    }
   ],
   "source": [
    "plt.scatter(yTop[:, 1], yTop[:, 0], c='r', marker='*', s=300, zorder=5)\n",
    "plt.plot(tOut, yOut[0], c='b', marker='o')\n"
   ]
  }
 ],
 "metadata": {
  "kernelspec": {
   "display_name": "experiment",
   "language": "python",
   "name": "python3"
  },
  "language_info": {
   "codemirror_mode": {
    "name": "ipython",
    "version": 3
   },
   "file_extension": ".py",
   "mimetype": "text/x-python",
   "name": "python",
   "nbconvert_exporter": "python",
   "pygments_lexer": "ipython3",
   "version": "3.8.8"
  }
 },
 "nbformat": 4,
 "nbformat_minor": 2
}
