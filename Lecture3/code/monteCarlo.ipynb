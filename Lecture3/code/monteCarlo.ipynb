{
 "cells": [
  {
   "cell_type": "markdown",
   "metadata": {},
   "source": [
    "# 蒙特卡洛仿真\n",
    "\n",
    "## 什么是蒙特卡洛仿真\n",
    "\n",
    "蒙特卡洛monte carlo是一个monaco的城市，是世界上最有名的赌城，读破就是一种靠慨率的游戏，\n",
    "蒙特卡洛仿真也是以来概率和随机的。\n",
    "\n",
    "大家可以回忆一下什么是随机事件，什么是随机事件的概率。\n",
    "\n",
    "为什么随机的仿真可以有意义呢？这就是the law of large numbers。\n",
    "只要我们有足够多的随机样本，我们就能得到真是的期望值。\n",
    "\n",
    "## 举个例子\n",
    "\n",
    "我们下面举个简单的例子，加入一间房间里有n个人，求至少有2人生日相同的概率。\n",
    "\n",
    "这个如果用概率论来接是非常简单的，任意两个人生日相同，情况太多，我们不容易写出来，\n",
    "我们可以找他的反问题，就是所有人生日都不同，这里我们会发现n一定要小于365，不然一定有人生日相同。\n",
    "我们继续，如果所有人生日不相同的概率是多少能？\n",
    "\n",
    "$$\n",
    "A'=1*\\frac{364}{365}*\\frac{363}{365}*\\frac{362}{365}*...*\\frac{365-n+1}{365}\n",
    "$$\n",
    "\n",
    "那么相同的概率就是1-A'。\n",
    "\n",
    "如果我们用monte carlo 仿真怎么求解嫩？\n",
    "首先我们假设n个人生日随机，然后我们随机生成这n个人的生日，然后看看有没有相同的，\n",
    "只要我们做很多次，“有相同的次数/总次数”就是我们要求的结果了，下面我们写个python代码来试试："
   ]
  },
  {
   "cell_type": "code",
   "execution_count": null,
   "metadata": {},
   "outputs": [],
   "source": [
    "import matplotlib.pyplot as plt\n",
    "import numpy as np\n",
    "# 多少人\n",
    "n = 50\n",
    "# 计算多少次，越多越精确\n",
    "iteration = 1000\n",
    "# 存放每一次的结果\n",
    "results = []\n",
    "# 记录有几次有重复生日的人\n",
    "hit = 0\n",
    "for i in range(iteration):\n",
    "    birthdate = np.random.randint(1, 366, n)\n",
    "    u = np.unique(birthdate)\n",
    "    if len(u) < len(birthdate):\n",
    "        hit += 1\n",
    "    results += [hit/(i+1)]\n",
    "\n",
    "\n",
    "# 用概率的方法计算理论结果\n",
    "a = np.arange(365, 365-n, -1)/365\n",
    "ideal = 1-np.prod(a)\n",
    "print(ideal)\n",
    "print(results[-1])\n",
    "# 画出结果虽计算次数变化曲线\n",
    "plt.plot(results[5:])\n",
    "\n",
    ""
   ]
  },
  {
   "cell_type": "markdown",
   "metadata": {},
   "source": [
    "## Quiz\n",
    "用Monte Carlo方法估算 π（圆周率），因为它简单易懂，并且和数学中的几何概率相关。"
   ]
  },
  {
   "cell_type": "code",
   "execution_count": null,
   "metadata": {},
   "outputs": [],
   "source": [
    "'''\n",
    "## Quiz\n",
    "假设你在公交站等车，公交车的到达时间是随机的，但我们知道它们在某个时间间隔内均匀分布。例如，一辆公交车大约每 10 到 20 分钟 来一趟，乘客在任意时间到达车站的概率是均匀的。我们希望使用 Monte Carlo 方法来估算一个随机到达的乘客平均需要等待多少时间。\n",
    "'''\n",
    ""
   ]
  },
  {
   "cell_type": "markdown",
   "metadata": {},
   "source": [
    "## 作业\n",
    "下面我们做个联系，假设小明每天早上去上班要做公交车，她早上出门有70%概率坐A路，30%概率坐B路，\n",
    "A到公司有6站路，每站之间运行2或着3分钟，50%概率随机，然后每站停车0.5或着1分钟，50%概率随机。\n",
    "B到公司有8站路，每站之间运行1或着2分钟，50%概率随机，然后每站停车0.5或着1分钟，50%概率随机，\n",
    "B车如果连续两站停留1分钟，下一段路一定是0.5分钟路程。\n",
    "求小平均多长时间到公司，如果小明8点上班，那么他每天几点出门坐车，才能保证90%都不迟到？"
   ]
  }
 ],
 "nbformat": 4,
 "nbformat_minor": 2,
 "metadata": {
  "language_info": {
   "codemirror_mode": {
    "name": "ipython",
    "version": 3
   },
   "file_extension": ".py",
   "mimetype": "text/x-python",
   "name": "python",
   "nbconvert_exporter": "python",
   "pygments_lexer": "ipython3",
   "version": 3
  },
  "orig_nbformat": 4
 }
}