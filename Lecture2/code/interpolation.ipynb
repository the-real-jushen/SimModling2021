{
 "cells": [
  {
   "cell_type": "markdown",
   "metadata": {},
   "source": [
    " # 电气工程建模与仿真——Interpolation\n",
    " \n",
    " 插值是一种给定若干个已知的离散数据点，在一定范围内推求新的数据点的过程或方法。\n",
    " \n",
    " 这里我们主要介绍`scipy.interpolate.interp1d`类中的若干插值方法。\n",
    " \n",
    " 调包："
   ]
  },
  {
   "cell_type": "code",
   "execution_count": null,
   "metadata": {},
   "outputs": [],
   "source": [
    "import numpy as np\n",
    "from scipy.interpolate import interp1d  # 官方文档：https://docs.scipy.org/doc/scipy/reference/generated/scipy.interpolate.interp1d.html\n",
    "from matplotlib import pyplot as plt\n",
    "print('---')\n",
    ""
   ]
  },
  {
   "cell_type": "code",
   "execution_count": null,
   "metadata": {},
   "outputs": [],
   "source": [
    "x = np.linspace(0, 2*np.pi, 10)  # 初始已知10个点\n",
    "y = np.sin(x)\n",
    "x_new = np.linspace(0, 2*np.pi, 50)  # 目标插值50个点\n",
    "plt.plot(x, y, '.')\n",
    "\n",
    ""
   ]
  },
  {
   "cell_type": "code",
   "execution_count": null,
   "metadata": {},
   "outputs": [],
   "source": [
    "kinds = ['nearest', 'next', 'linear', 'cubic']\n",
    "markers = ['v', '^', '<', '>']\n",
    "plt.figure(figsize=(20, 10))\n",
    "plt.scatter(x, y, marker='*', s=800, label='raw')\n",
    "\n",
    "for i in range(len(kinds)):\n",
    "    f = interp1d(x, y, kind=kinds[i])\n",
    "    y_new = f(x_new)\n",
    "    plt.scatter(x_new, y_new, marker=markers[i], label=kinds[i])\n",
    "plt.legend(loc='best')\n",
    ""
   ]
  },
  {
   "cell_type": "markdown",
   "metadata": {},
   "source": [
    " `interp1d`类中提供了若干种插值方法，包括\"linear\", \"nearest\", \"nearest-up\", \"zero\", \"slinear\", \"quadratic\", \"cubic\", \"previous\"以及\"next\"。\n",
    " \n",
    " 其中：\n",
    " \n",
    " \"zero\", \"slinear\", \"quadratic\", \"cubic\"分别代表零次、一次、二次、三次样条插值\n",
    " \n",
    " \"previous\", \"next\"分别代表取当前点的上一个或下一个点\n",
    " \n",
    " \"nearest\", \"nearest-up\"取最近的点，二者区别在于，插值半整数时(如0.5)，\"nearest\"向下取整，\"nearest-up\"向上取整\n",
    " \n",
    " \"linear\"即把相邻点相连并均等取值\n",
    " \n",
    " 要注意插值与后面的拟合(fitting)存在不同\n",
    " \n",
    " 插值必过给定的已知离散点，拟合时可以不过点，因为要满足最佳逼近\n",
    " \n",
    " 对底层方法感兴趣的同学可以参考《数值分析》\n",
    " \n",
    " `scipy.interpolate`这一sub-package中提供了其他多种应用于不同场合的插值方法，感兴趣的同学可以自行查阅[官方文档](https://docs.scipy.org/doc/scipy/reference/interpolate.html)"
   ]
  }
 ],
 "nbformat": 4,
 "nbformat_minor": 2,
 "metadata": {
  "language_info": {
   "codemirror_mode": {
    "name": "ipython",
    "version": 3
   },
   "file_extension": ".py",
   "mimetype": "text/x-python",
   "name": "python",
   "nbconvert_exporter": "python",
   "pygments_lexer": "ipython3",
   "version": 3
  }
 }
}